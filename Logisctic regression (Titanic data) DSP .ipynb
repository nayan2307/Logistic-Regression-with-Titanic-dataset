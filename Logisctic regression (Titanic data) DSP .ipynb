{
 "cells": [
  {
   "cell_type": "markdown",
   "metadata": {},
   "source": [
    "## Logistic Regression - Prediction of Surrvival on Titanic Data Set"
   ]
  },
  {
   "cell_type": "code",
   "execution_count": 6,
   "metadata": {},
   "outputs": [],
   "source": [
    "import pandas as pd\n",
    "import numpy as np\n",
    "import matplotlib.pyplot as plt\n",
    "import seaborn as sb"
   ]
  },
  {
   "cell_type": "code",
   "execution_count": 2,
   "metadata": {},
   "outputs": [],
   "source": [
    "# The target variable is \"Surrvived\".   1 - Survived  and 0 - Not-Surrvived"
   ]
  },
  {
   "cell_type": "code",
   "execution_count": 7,
   "metadata": {},
   "outputs": [],
   "source": [
    "# Reading the file.\n",
    "\n",
    "titanic_data =  pd.read_csv(\"E:\\\\DSP 32 lectures- Imarticus\\\\DSP Thane\\Python\\\\titanic_1.csv\")"
   ]
  },
  {
   "cell_type": "code",
   "execution_count": 8,
   "metadata": {},
   "outputs": [
    {
     "data": {
      "text/html": [
       "<div>\n",
       "<style scoped>\n",
       "    .dataframe tbody tr th:only-of-type {\n",
       "        vertical-align: middle;\n",
       "    }\n",
       "\n",
       "    .dataframe tbody tr th {\n",
       "        vertical-align: top;\n",
       "    }\n",
       "\n",
       "    .dataframe thead th {\n",
       "        text-align: right;\n",
       "    }\n",
       "</style>\n",
       "<table border=\"1\" class=\"dataframe\">\n",
       "  <thead>\n",
       "    <tr style=\"text-align: right;\">\n",
       "      <th></th>\n",
       "      <th>pclass</th>\n",
       "      <th>survived</th>\n",
       "      <th>name</th>\n",
       "      <th>sex</th>\n",
       "      <th>age</th>\n",
       "      <th>sibsp</th>\n",
       "      <th>parch</th>\n",
       "      <th>ticket</th>\n",
       "      <th>fare</th>\n",
       "      <th>cabin</th>\n",
       "      <th>embarked</th>\n",
       "      <th>boat</th>\n",
       "      <th>body</th>\n",
       "      <th>home.dest</th>\n",
       "    </tr>\n",
       "  </thead>\n",
       "  <tbody>\n",
       "    <tr>\n",
       "      <th>0</th>\n",
       "      <td>1</td>\n",
       "      <td>1</td>\n",
       "      <td>Allen, Miss. Elisabeth Walton</td>\n",
       "      <td>female</td>\n",
       "      <td>29.0000</td>\n",
       "      <td>0</td>\n",
       "      <td>0</td>\n",
       "      <td>24160</td>\n",
       "      <td>211.3375</td>\n",
       "      <td>B5</td>\n",
       "      <td>S</td>\n",
       "      <td>2</td>\n",
       "      <td>NaN</td>\n",
       "      <td>St Louis, MO</td>\n",
       "    </tr>\n",
       "    <tr>\n",
       "      <th>1</th>\n",
       "      <td>1</td>\n",
       "      <td>1</td>\n",
       "      <td>Allison, Master. Hudson Trevor</td>\n",
       "      <td>male</td>\n",
       "      <td>0.9167</td>\n",
       "      <td>1</td>\n",
       "      <td>2</td>\n",
       "      <td>113781</td>\n",
       "      <td>151.5500</td>\n",
       "      <td>C22 C26</td>\n",
       "      <td>S</td>\n",
       "      <td>11</td>\n",
       "      <td>NaN</td>\n",
       "      <td>Montreal, PQ / Chesterville, ON</td>\n",
       "    </tr>\n",
       "    <tr>\n",
       "      <th>2</th>\n",
       "      <td>1</td>\n",
       "      <td>0</td>\n",
       "      <td>Allison, Miss. Helen Loraine</td>\n",
       "      <td>female</td>\n",
       "      <td>2.0000</td>\n",
       "      <td>1</td>\n",
       "      <td>2</td>\n",
       "      <td>113781</td>\n",
       "      <td>151.5500</td>\n",
       "      <td>C22 C26</td>\n",
       "      <td>S</td>\n",
       "      <td>NaN</td>\n",
       "      <td>NaN</td>\n",
       "      <td>Montreal, PQ / Chesterville, ON</td>\n",
       "    </tr>\n",
       "    <tr>\n",
       "      <th>3</th>\n",
       "      <td>1</td>\n",
       "      <td>0</td>\n",
       "      <td>Allison, Mr. Hudson Joshua Creighton</td>\n",
       "      <td>male</td>\n",
       "      <td>30.0000</td>\n",
       "      <td>1</td>\n",
       "      <td>2</td>\n",
       "      <td>113781</td>\n",
       "      <td>151.5500</td>\n",
       "      <td>C22 C26</td>\n",
       "      <td>S</td>\n",
       "      <td>NaN</td>\n",
       "      <td>135.0</td>\n",
       "      <td>Montreal, PQ / Chesterville, ON</td>\n",
       "    </tr>\n",
       "    <tr>\n",
       "      <th>4</th>\n",
       "      <td>1</td>\n",
       "      <td>0</td>\n",
       "      <td>Allison, Mrs. Hudson J C (Bessie Waldo Daniels)</td>\n",
       "      <td>female</td>\n",
       "      <td>25.0000</td>\n",
       "      <td>1</td>\n",
       "      <td>2</td>\n",
       "      <td>113781</td>\n",
       "      <td>151.5500</td>\n",
       "      <td>C22 C26</td>\n",
       "      <td>S</td>\n",
       "      <td>NaN</td>\n",
       "      <td>NaN</td>\n",
       "      <td>Montreal, PQ / Chesterville, ON</td>\n",
       "    </tr>\n",
       "  </tbody>\n",
       "</table>\n",
       "</div>"
      ],
      "text/plain": [
       "   pclass  survived                                             name     sex  \\\n",
       "0       1         1                    Allen, Miss. Elisabeth Walton  female   \n",
       "1       1         1                   Allison, Master. Hudson Trevor    male   \n",
       "2       1         0                     Allison, Miss. Helen Loraine  female   \n",
       "3       1         0             Allison, Mr. Hudson Joshua Creighton    male   \n",
       "4       1         0  Allison, Mrs. Hudson J C (Bessie Waldo Daniels)  female   \n",
       "\n",
       "       age  sibsp  parch  ticket      fare    cabin embarked boat   body  \\\n",
       "0  29.0000      0      0   24160  211.3375       B5        S    2    NaN   \n",
       "1   0.9167      1      2  113781  151.5500  C22 C26        S   11    NaN   \n",
       "2   2.0000      1      2  113781  151.5500  C22 C26        S  NaN    NaN   \n",
       "3  30.0000      1      2  113781  151.5500  C22 C26        S  NaN  135.0   \n",
       "4  25.0000      1      2  113781  151.5500  C22 C26        S  NaN    NaN   \n",
       "\n",
       "                         home.dest  \n",
       "0                     St Louis, MO  \n",
       "1  Montreal, PQ / Chesterville, ON  \n",
       "2  Montreal, PQ / Chesterville, ON  \n",
       "3  Montreal, PQ / Chesterville, ON  \n",
       "4  Montreal, PQ / Chesterville, ON  "
      ]
     },
     "execution_count": 8,
     "metadata": {},
     "output_type": "execute_result"
    }
   ],
   "source": [
    "titanic_data.head()"
   ]
  },
  {
   "cell_type": "code",
   "execution_count": 54,
   "metadata": {},
   "outputs": [
    {
     "data": {
      "text/plain": [
       "(1309, 14)"
      ]
     },
     "execution_count": 54,
     "metadata": {},
     "output_type": "execute_result"
    }
   ],
   "source": [
    "titanic_data.shape"
   ]
  },
  {
   "cell_type": "markdown",
   "metadata": {},
   "source": [
    "## EDA :\n"
   ]
  },
  {
   "cell_type": "code",
   "execution_count": 39,
   "metadata": {},
   "outputs": [
    {
     "data": {
      "image/png": "[encoded data removed]",
      "text/plain": [
       "<Figure size 432x288 with 1 Axes>"
      ]
     },
     "metadata": {
      "needs_background": "light"
     },
     "output_type": "display_data"
    }
   ],
   "source": [
    "# To coun the no. of passengers who surrvived and not surrvived.\n",
    "#  1 - Survived  and 0 - Not-Surrvived\n",
    "\n",
    "sb.countplot(x = \"survived\" , data = titanic_data);"
   ]
  },
  {
   "cell_type": "code",
   "execution_count": 40,
   "metadata": {},
   "outputs": [
    {
     "data": {
      "image/png": "[encoded data removed]",
      "text/plain": [
       "<Figure size 432x288 with 1 Axes>"
      ]
     },
     "metadata": {
      "needs_background": "light"
     },
     "output_type": "display_data"
    }
   ],
   "source": [
    "# To count the MAle survivors and Female Surrvivors:\n",
    "\n",
    "sb.countplot(x = \"survived\" , hue = \"sex\" , data = titanic_data);"
   ]
  },
  {
   "cell_type": "code",
   "execution_count": 21,
   "metadata": {},
   "outputs": [
    {
     "data": {
      "image/png": "[encoded data removed]",
      "text/plain": [
       "<Figure size 432x288 with 1 Axes>"
      ]
     },
     "metadata": {
      "needs_background": "light"
     },
     "output_type": "display_data"
    }
   ],
   "source": [
    "# To check the survivord basd upon class. \n",
    "\n",
    "sb.countplot(x = \"survived\" , hue = \"pclass\" , data = titanic_data);\n",
    "\n",
    "# From this graph we conclued that the passsengers who didn't survive were of the 3rd class or the lowest class and \n",
    "# the passengers traveeling in the 1st class have the better chances of survival."
   ]
  },
  {
   "cell_type": "code",
   "execution_count": 23,
   "metadata": {},
   "outputs": [
    {
     "name": "stderr",
     "output_type": "stream",
     "text": [
      "C:\\Users\\user\\anaconda3\\lib\\site-packages\\numpy\\lib\\histograms.py:839: RuntimeWarning: invalid value encountered in greater_equal\n",
      "  keep = (tmp_a >= first_edge)\n",
      "C:\\Users\\user\\anaconda3\\lib\\site-packages\\numpy\\lib\\histograms.py:840: RuntimeWarning: invalid value encountered in less_equal\n",
      "  keep &= (tmp_a <= last_edge)\n"
     ]
    },
    {
     "data": {
      "image/png": "[encoded data removed]",
      "text/plain": [
       "<Figure size 432x288 with 1 Axes>"
      ]
     },
     "metadata": {
      "needs_background": "light"
     },
     "output_type": "display_data"
    }
   ],
   "source": [
    "# To plot the age distribution among the passengers.\n",
    "\n",
    "plt.hist(titanic_data.age);\n",
    "\n",
    "# This plot shows that there were more middle aged passengers(20-40) present on the ship as comapred to the people\n",
    "# who were of age (45 and above)."
   ]
  },
  {
   "cell_type": "code",
   "execution_count": 35,
   "metadata": {},
   "outputs": [
    {
     "data": {
      "image/png": "[encoded data removed]",
      "text/plain": [
       "<Figure size 576x360 with 1 Axes>"
      ]
     },
     "metadata": {
      "needs_background": "light"
     },
     "output_type": "display_data"
    }
   ],
   "source": [
    "# To plot a graph of fare distribution:\n",
    "\n",
    "\n",
    "plt.hist(titanic_data.fare , bins= 20);\n"
   ]
  },
  {
   "cell_type": "code",
   "execution_count": 48,
   "metadata": {},
   "outputs": [
    {
     "data": {
      "image/png": "[encoded data removed]",
      "text/plain": [
       "<Figure size 432x288 with 1 Axes>"
      ]
     },
     "metadata": {
      "needs_background": "light"
     },
     "output_type": "display_data"
    }
   ],
   "source": [
    "# To count the no. of spouses/children on borad.\n",
    "\n",
    "sb.countplot(x =\"sibsp\", data = titanic_data);\n",
    "\n",
    "# Max. no. of passengers did not have any spouse/siblings onboard and there were about 300 passengers who had\n",
    "# 1 spouse/siblings onboard."
   ]
  },
  {
   "cell_type": "code",
   "execution_count": 49,
   "metadata": {},
   "outputs": [
    {
     "data": {
      "image/png": "[encoded data removed]",
      "text/plain": [
       "<Figure size 432x288 with 1 Axes>"
      ]
     },
     "metadata": {
      "needs_background": "light"
     },
     "output_type": "display_data"
    }
   ],
   "source": [
    "# To determine the no. of parent and children present on board.\n",
    "\n",
    "sb.countplot(x = \"parch\" , data = titanic_data);\n",
    "\n",
    "# Max. no. of passengers had no parent/children present on board and there were about 180 passengers who had 1\n",
    "#  parent/children present onboard, and there were about 150 passengers who had 2 parent/children prsent on board."
   ]
  },
  {
   "cell_type": "markdown",
   "metadata": {},
   "source": [
    "## Data Cleaning :"
   ]
  },
  {
   "cell_type": "code",
   "execution_count": 9,
   "metadata": {},
   "outputs": [
    {
     "data": {
      "text/plain": [
       "pclass          0\n",
       "survived        0\n",
       "name            0\n",
       "sex             0\n",
       "age           263\n",
       "sibsp           0\n",
       "parch           0\n",
       "ticket          0\n",
       "fare            1\n",
       "cabin        1014\n",
       "embarked        2\n",
       "boat          823\n",
       "body         1188\n",
       "home.dest     564\n",
       "dtype: int64"
      ]
     },
     "execution_count": 9,
     "metadata": {},
     "output_type": "execute_result"
    }
   ],
   "source": [
    "titanic_data.isnull().sum()"
   ]
  },
  {
   "cell_type": "code",
   "execution_count": 10,
   "metadata": {},
   "outputs": [
    {
     "data": {
      "image/png": "[encoded data removed]",
      "text/plain": [
       "<Figure size 432x288 with 2 Axes>"
      ]
     },
     "metadata": {
      "needs_background": "light"
     },
     "output_type": "display_data"
    }
   ],
   "source": [
    "# To plot the amount of missing values in the data.\n",
    "\n",
    "sb.heatmap(titanic_data.isnull() , yticklabels = False , cmap= \"Blues\");\n",
    "\n",
    "\n",
    "# From the graph it is clear that \"cabin\",\"body\" and \"boat\" col. have very high amount of null values present in them."
   ]
  },
  {
   "cell_type": "code",
   "execution_count": 11,
   "metadata": {},
   "outputs": [],
   "source": [
    "# To drop the col. which have more than 50% of data as null values and also dropping the \"home.dest\" col.\n",
    "\n",
    "titanic_data.drop( [\"cabin\" , \"body\" , \"boat\" , \"home.dest\"] , axis = 1 , inplace = True )"
   ]
  },
  {
   "cell_type": "code",
   "execution_count": 12,
   "metadata": {},
   "outputs": [
    {
     "data": {
      "text/html": [
       "<div>\n",
       "<style scoped>\n",
       "    .dataframe tbody tr th:only-of-type {\n",
       "        vertical-align: middle;\n",
       "    }\n",
       "\n",
       "    .dataframe tbody tr th {\n",
       "        vertical-align: top;\n",
       "    }\n",
       "\n",
       "    .dataframe thead th {\n",
       "        text-align: right;\n",
       "    }\n",
       "</style>\n",
       "<table border=\"1\" class=\"dataframe\">\n",
       "  <thead>\n",
       "    <tr style=\"text-align: right;\">\n",
       "      <th></th>\n",
       "      <th>pclass</th>\n",
       "      <th>survived</th>\n",
       "      <th>name</th>\n",
       "      <th>sex</th>\n",
       "      <th>age</th>\n",
       "      <th>sibsp</th>\n",
       "      <th>parch</th>\n",
       "      <th>ticket</th>\n",
       "      <th>fare</th>\n",
       "      <th>embarked</th>\n",
       "    </tr>\n",
       "  </thead>\n",
       "  <tbody>\n",
       "    <tr>\n",
       "      <th>0</th>\n",
       "      <td>1</td>\n",
       "      <td>1</td>\n",
       "      <td>Allen, Miss. Elisabeth Walton</td>\n",
       "      <td>female</td>\n",
       "      <td>29.0000</td>\n",
       "      <td>0</td>\n",
       "      <td>0</td>\n",
       "      <td>24160</td>\n",
       "      <td>211.3375</td>\n",
       "      <td>S</td>\n",
       "    </tr>\n",
       "    <tr>\n",
       "      <th>1</th>\n",
       "      <td>1</td>\n",
       "      <td>1</td>\n",
       "      <td>Allison, Master. Hudson Trevor</td>\n",
       "      <td>male</td>\n",
       "      <td>0.9167</td>\n",
       "      <td>1</td>\n",
       "      <td>2</td>\n",
       "      <td>113781</td>\n",
       "      <td>151.5500</td>\n",
       "      <td>S</td>\n",
       "    </tr>\n",
       "    <tr>\n",
       "      <th>2</th>\n",
       "      <td>1</td>\n",
       "      <td>0</td>\n",
       "      <td>Allison, Miss. Helen Loraine</td>\n",
       "      <td>female</td>\n",
       "      <td>2.0000</td>\n",
       "      <td>1</td>\n",
       "      <td>2</td>\n",
       "      <td>113781</td>\n",
       "      <td>151.5500</td>\n",
       "      <td>S</td>\n",
       "    </tr>\n",
       "    <tr>\n",
       "      <th>3</th>\n",
       "      <td>1</td>\n",
       "      <td>0</td>\n",
       "      <td>Allison, Mr. Hudson Joshua Creighton</td>\n",
       "      <td>male</td>\n",
       "      <td>30.0000</td>\n",
       "      <td>1</td>\n",
       "      <td>2</td>\n",
       "      <td>113781</td>\n",
       "      <td>151.5500</td>\n",
       "      <td>S</td>\n",
       "    </tr>\n",
       "    <tr>\n",
       "      <th>4</th>\n",
       "      <td>1</td>\n",
       "      <td>0</td>\n",
       "      <td>Allison, Mrs. Hudson J C (Bessie Waldo Daniels)</td>\n",
       "      <td>female</td>\n",
       "      <td>25.0000</td>\n",
       "      <td>1</td>\n",
       "      <td>2</td>\n",
       "      <td>113781</td>\n",
       "      <td>151.5500</td>\n",
       "      <td>S</td>\n",
       "    </tr>\n",
       "  </tbody>\n",
       "</table>\n",
       "</div>"
      ],
      "text/plain": [
       "   pclass  survived                                             name     sex  \\\n",
       "0       1         1                    Allen, Miss. Elisabeth Walton  female   \n",
       "1       1         1                   Allison, Master. Hudson Trevor    male   \n",
       "2       1         0                     Allison, Miss. Helen Loraine  female   \n",
       "3       1         0             Allison, Mr. Hudson Joshua Creighton    male   \n",
       "4       1         0  Allison, Mrs. Hudson J C (Bessie Waldo Daniels)  female   \n",
       "\n",
       "       age  sibsp  parch  ticket      fare embarked  \n",
       "0  29.0000      0      0   24160  211.3375        S  \n",
       "1   0.9167      1      2  113781  151.5500        S  \n",
       "2   2.0000      1      2  113781  151.5500        S  \n",
       "3  30.0000      1      2  113781  151.5500        S  \n",
       "4  25.0000      1      2  113781  151.5500        S  "
      ]
     },
     "execution_count": 12,
     "metadata": {},
     "output_type": "execute_result"
    }
   ],
   "source": [
    "titanic_data.head()"
   ]
  },
  {
   "cell_type": "code",
   "execution_count": 14,
   "metadata": {},
   "outputs": [
    {
     "data": {
      "text/plain": [
       "pclass        0\n",
       "survived      0\n",
       "name          0\n",
       "sex           0\n",
       "age         263\n",
       "sibsp         0\n",
       "parch         0\n",
       "ticket        0\n",
       "fare          1\n",
       "embarked      2\n",
       "dtype: int64"
      ]
     },
     "execution_count": 14,
     "metadata": {},
     "output_type": "execute_result"
    }
   ],
   "source": [
    "# To check for Null value for the remaining col.\n",
    "\n",
    "titanic_data.isnull().sum()\n",
    "\n",
    "# there are 4 col. which are having null values."
   ]
  },
  {
   "cell_type": "code",
   "execution_count": 16,
   "metadata": {},
   "outputs": [],
   "source": [
    "# To handle the Null values :\n",
    "\n",
    "# For continous variables:\n",
    "\n",
    "titanic_data.age.fillna(titanic_data.age.mean() , inplace = True)\n",
    "titanic_data.fare.fillna(titanic_data.fare.mean() , inplace = True)\n",
    "\n",
    "# For Categorical variables :\n",
    "\n",
    "titanic_data.embarked.fillna(\"S\" , inplace = True)\n",
    "\n"
   ]
  },
  {
   "cell_type": "code",
   "execution_count": 17,
   "metadata": {},
   "outputs": [
    {
     "data": {
      "text/plain": [
       "pclass      0\n",
       "survived    0\n",
       "name        0\n",
       "sex         0\n",
       "age         0\n",
       "sibsp       0\n",
       "parch       0\n",
       "ticket      0\n",
       "fare        0\n",
       "embarked    0\n",
       "dtype: int64"
      ]
     },
     "execution_count": 17,
     "metadata": {},
     "output_type": "execute_result"
    }
   ],
   "source": [
    "titanic_data.isnull().sum()"
   ]
  },
  {
   "cell_type": "code",
   "execution_count": 21,
   "metadata": {},
   "outputs": [],
   "source": [
    "# To convert the Categorical Data / NOn-Numeric data into Numeric data :\n",
    "\n",
    "from sklearn.preprocessing import LabelEncoder\n",
    "le = LabelEncoder()"
   ]
  },
  {
   "cell_type": "code",
   "execution_count": 80,
   "metadata": {},
   "outputs": [
    {
     "data": {
      "text/html": [
       "<div>\n",
       "<style scoped>\n",
       "    .dataframe tbody tr th:only-of-type {\n",
       "        vertical-align: middle;\n",
       "    }\n",
       "\n",
       "    .dataframe tbody tr th {\n",
       "        vertical-align: top;\n",
       "    }\n",
       "\n",
       "    .dataframe thead th {\n",
       "        text-align: right;\n",
       "    }\n",
       "</style>\n",
       "<table border=\"1\" class=\"dataframe\">\n",
       "  <thead>\n",
       "    <tr style=\"text-align: right;\">\n",
       "      <th></th>\n",
       "      <th>pclass</th>\n",
       "      <th>survived</th>\n",
       "      <th>name</th>\n",
       "      <th>sex</th>\n",
       "      <th>age</th>\n",
       "      <th>sibsp</th>\n",
       "      <th>parch</th>\n",
       "      <th>ticket</th>\n",
       "      <th>fare</th>\n",
       "      <th>embarked</th>\n",
       "    </tr>\n",
       "  </thead>\n",
       "  <tbody>\n",
       "    <tr>\n",
       "      <th>0</th>\n",
       "      <td>1</td>\n",
       "      <td>1</td>\n",
       "      <td>Allen, Miss. Elisabeth Walton</td>\n",
       "      <td>female</td>\n",
       "      <td>29.0000</td>\n",
       "      <td>0</td>\n",
       "      <td>0</td>\n",
       "      <td>24160</td>\n",
       "      <td>211.3375</td>\n",
       "      <td>S</td>\n",
       "    </tr>\n",
       "    <tr>\n",
       "      <th>1</th>\n",
       "      <td>1</td>\n",
       "      <td>1</td>\n",
       "      <td>Allison, Master. Hudson Trevor</td>\n",
       "      <td>male</td>\n",
       "      <td>0.9167</td>\n",
       "      <td>1</td>\n",
       "      <td>2</td>\n",
       "      <td>113781</td>\n",
       "      <td>151.5500</td>\n",
       "      <td>S</td>\n",
       "    </tr>\n",
       "    <tr>\n",
       "      <th>2</th>\n",
       "      <td>1</td>\n",
       "      <td>0</td>\n",
       "      <td>Allison, Miss. Helen Loraine</td>\n",
       "      <td>female</td>\n",
       "      <td>2.0000</td>\n",
       "      <td>1</td>\n",
       "      <td>2</td>\n",
       "      <td>113781</td>\n",
       "      <td>151.5500</td>\n",
       "      <td>S</td>\n",
       "    </tr>\n",
       "    <tr>\n",
       "      <th>3</th>\n",
       "      <td>1</td>\n",
       "      <td>0</td>\n",
       "      <td>Allison, Mr. Hudson Joshua Creighton</td>\n",
       "      <td>male</td>\n",
       "      <td>30.0000</td>\n",
       "      <td>1</td>\n",
       "      <td>2</td>\n",
       "      <td>113781</td>\n",
       "      <td>151.5500</td>\n",
       "      <td>S</td>\n",
       "    </tr>\n",
       "    <tr>\n",
       "      <th>4</th>\n",
       "      <td>1</td>\n",
       "      <td>0</td>\n",
       "      <td>Allison, Mrs. Hudson J C (Bessie Waldo Daniels)</td>\n",
       "      <td>female</td>\n",
       "      <td>25.0000</td>\n",
       "      <td>1</td>\n",
       "      <td>2</td>\n",
       "      <td>113781</td>\n",
       "      <td>151.5500</td>\n",
       "      <td>S</td>\n",
       "    </tr>\n",
       "  </tbody>\n",
       "</table>\n",
       "</div>"
      ],
      "text/plain": [
       "   pclass  survived                                             name     sex  \\\n",
       "0       1         1                    Allen, Miss. Elisabeth Walton  female   \n",
       "1       1         1                   Allison, Master. Hudson Trevor    male   \n",
       "2       1         0                     Allison, Miss. Helen Loraine  female   \n",
       "3       1         0             Allison, Mr. Hudson Joshua Creighton    male   \n",
       "4       1         0  Allison, Mrs. Hudson J C (Bessie Waldo Daniels)  female   \n",
       "\n",
       "       age  sibsp  parch  ticket      fare embarked  \n",
       "0  29.0000      0      0   24160  211.3375        S  \n",
       "1   0.9167      1      2  113781  151.5500        S  \n",
       "2   2.0000      1      2  113781  151.5500        S  \n",
       "3  30.0000      1      2  113781  151.5500        S  \n",
       "4  25.0000      1      2  113781  151.5500        S  "
      ]
     },
     "execution_count": 80,
     "metadata": {},
     "output_type": "execute_result"
    }
   ],
   "source": [
    "titanic_data.head()"
   ]
  },
  {
   "cell_type": "code",
   "execution_count": 19,
   "metadata": {},
   "outputs": [],
   "source": [
    "# Dropping the irrelevant col. \n",
    "\n",
    "titanic_data.drop(['name', \"ticket\"] , axis =1 , inplace = True)"
   ]
  },
  {
   "cell_type": "code",
   "execution_count": 20,
   "metadata": {},
   "outputs": [
    {
     "data": {
      "text/html": [
       "<div>\n",
       "<style scoped>\n",
       "    .dataframe tbody tr th:only-of-type {\n",
       "        vertical-align: middle;\n",
       "    }\n",
       "\n",
       "    .dataframe tbody tr th {\n",
       "        vertical-align: top;\n",
       "    }\n",
       "\n",
       "    .dataframe thead th {\n",
       "        text-align: right;\n",
       "    }\n",
       "</style>\n",
       "<table border=\"1\" class=\"dataframe\">\n",
       "  <thead>\n",
       "    <tr style=\"text-align: right;\">\n",
       "      <th></th>\n",
       "      <th>pclass</th>\n",
       "      <th>survived</th>\n",
       "      <th>sex</th>\n",
       "      <th>age</th>\n",
       "      <th>sibsp</th>\n",
       "      <th>parch</th>\n",
       "      <th>fare</th>\n",
       "      <th>embarked</th>\n",
       "    </tr>\n",
       "  </thead>\n",
       "  <tbody>\n",
       "    <tr>\n",
       "      <th>0</th>\n",
       "      <td>1</td>\n",
       "      <td>1</td>\n",
       "      <td>female</td>\n",
       "      <td>29.0000</td>\n",
       "      <td>0</td>\n",
       "      <td>0</td>\n",
       "      <td>211.3375</td>\n",
       "      <td>S</td>\n",
       "    </tr>\n",
       "    <tr>\n",
       "      <th>1</th>\n",
       "      <td>1</td>\n",
       "      <td>1</td>\n",
       "      <td>male</td>\n",
       "      <td>0.9167</td>\n",
       "      <td>1</td>\n",
       "      <td>2</td>\n",
       "      <td>151.5500</td>\n",
       "      <td>S</td>\n",
       "    </tr>\n",
       "    <tr>\n",
       "      <th>2</th>\n",
       "      <td>1</td>\n",
       "      <td>0</td>\n",
       "      <td>female</td>\n",
       "      <td>2.0000</td>\n",
       "      <td>1</td>\n",
       "      <td>2</td>\n",
       "      <td>151.5500</td>\n",
       "      <td>S</td>\n",
       "    </tr>\n",
       "    <tr>\n",
       "      <th>3</th>\n",
       "      <td>1</td>\n",
       "      <td>0</td>\n",
       "      <td>male</td>\n",
       "      <td>30.0000</td>\n",
       "      <td>1</td>\n",
       "      <td>2</td>\n",
       "      <td>151.5500</td>\n",
       "      <td>S</td>\n",
       "    </tr>\n",
       "    <tr>\n",
       "      <th>4</th>\n",
       "      <td>1</td>\n",
       "      <td>0</td>\n",
       "      <td>female</td>\n",
       "      <td>25.0000</td>\n",
       "      <td>1</td>\n",
       "      <td>2</td>\n",
       "      <td>151.5500</td>\n",
       "      <td>S</td>\n",
       "    </tr>\n",
       "  </tbody>\n",
       "</table>\n",
       "</div>"
      ],
      "text/plain": [
       "   pclass  survived     sex      age  sibsp  parch      fare embarked\n",
       "0       1         1  female  29.0000      0      0  211.3375        S\n",
       "1       1         1    male   0.9167      1      2  151.5500        S\n",
       "2       1         0  female   2.0000      1      2  151.5500        S\n",
       "3       1         0    male  30.0000      1      2  151.5500        S\n",
       "4       1         0  female  25.0000      1      2  151.5500        S"
      ]
     },
     "execution_count": 20,
     "metadata": {},
     "output_type": "execute_result"
    }
   ],
   "source": [
    "titanic_data.head()"
   ]
  },
  {
   "cell_type": "code",
   "execution_count": 22,
   "metadata": {},
   "outputs": [],
   "source": [
    "# Conversion of Non-Numeric values to Numeric values.\n",
    "\n",
    "titanic_data.pclass = le.fit_transform(titanic_data.pclass)\n",
    "titanic_data.sex = le.fit_transform(titanic_data.sex)\n",
    "titanic_data.embarked = le.fit_transform(titanic_data.embarked)"
   ]
  },
  {
   "cell_type": "code",
   "execution_count": 11,
   "metadata": {},
   "outputs": [
    {
     "data": {
      "text/html": [
       "<div>\n",
       "<style scoped>\n",
       "    .dataframe tbody tr th:only-of-type {\n",
       "        vertical-align: middle;\n",
       "    }\n",
       "\n",
       "    .dataframe tbody tr th {\n",
       "        vertical-align: top;\n",
       "    }\n",
       "\n",
       "    .dataframe thead th {\n",
       "        text-align: right;\n",
       "    }\n",
       "</style>\n",
       "<table border=\"1\" class=\"dataframe\">\n",
       "  <thead>\n",
       "    <tr style=\"text-align: right;\">\n",
       "      <th></th>\n",
       "      <th>pclass</th>\n",
       "      <th>survived</th>\n",
       "      <th>sex</th>\n",
       "      <th>age</th>\n",
       "      <th>sibsp</th>\n",
       "      <th>parch</th>\n",
       "      <th>fare</th>\n",
       "      <th>embarked</th>\n",
       "    </tr>\n",
       "  </thead>\n",
       "  <tbody>\n",
       "    <tr>\n",
       "      <th>0</th>\n",
       "      <td>0</td>\n",
       "      <td>1</td>\n",
       "      <td>0</td>\n",
       "      <td>29.0000</td>\n",
       "      <td>0</td>\n",
       "      <td>0</td>\n",
       "      <td>211.3375</td>\n",
       "      <td>2</td>\n",
       "    </tr>\n",
       "    <tr>\n",
       "      <th>1</th>\n",
       "      <td>0</td>\n",
       "      <td>1</td>\n",
       "      <td>1</td>\n",
       "      <td>0.9167</td>\n",
       "      <td>1</td>\n",
       "      <td>2</td>\n",
       "      <td>151.5500</td>\n",
       "      <td>2</td>\n",
       "    </tr>\n",
       "    <tr>\n",
       "      <th>2</th>\n",
       "      <td>0</td>\n",
       "      <td>0</td>\n",
       "      <td>0</td>\n",
       "      <td>2.0000</td>\n",
       "      <td>1</td>\n",
       "      <td>2</td>\n",
       "      <td>151.5500</td>\n",
       "      <td>2</td>\n",
       "    </tr>\n",
       "    <tr>\n",
       "      <th>3</th>\n",
       "      <td>0</td>\n",
       "      <td>0</td>\n",
       "      <td>1</td>\n",
       "      <td>30.0000</td>\n",
       "      <td>1</td>\n",
       "      <td>2</td>\n",
       "      <td>151.5500</td>\n",
       "      <td>2</td>\n",
       "    </tr>\n",
       "    <tr>\n",
       "      <th>4</th>\n",
       "      <td>0</td>\n",
       "      <td>0</td>\n",
       "      <td>0</td>\n",
       "      <td>25.0000</td>\n",
       "      <td>1</td>\n",
       "      <td>2</td>\n",
       "      <td>151.5500</td>\n",
       "      <td>2</td>\n",
       "    </tr>\n",
       "  </tbody>\n",
       "</table>\n",
       "</div>"
      ],
      "text/plain": [
       "   pclass  survived  sex      age  sibsp  parch      fare  embarked\n",
       "0       0         1    0  29.0000      0      0  211.3375         2\n",
       "1       0         1    1   0.9167      1      2  151.5500         2\n",
       "2       0         0    0   2.0000      1      2  151.5500         2\n",
       "3       0         0    1  30.0000      1      2  151.5500         2\n",
       "4       0         0    0  25.0000      1      2  151.5500         2"
      ]
     },
     "execution_count": 11,
     "metadata": {},
     "output_type": "execute_result"
    }
   ],
   "source": [
    "titanic_data.head(5)"
   ]
  },
  {
   "cell_type": "markdown",
   "metadata": {},
   "source": [
    "## Sampling the Data :"
   ]
  },
  {
   "cell_type": "code",
   "execution_count": 23,
   "metadata": {},
   "outputs": [],
   "source": [
    "x = titanic_data.iloc[: , [0,2,3,4,5,6,7]]\n",
    "y = titanic_data.iloc[:, -7]"
   ]
  },
  {
   "cell_type": "code",
   "execution_count": 24,
   "metadata": {},
   "outputs": [],
   "source": [
    "# importing the train test split function from sklearn\n",
    "\n",
    "from sklearn.model_selection import train_test_split"
   ]
  },
  {
   "cell_type": "code",
   "execution_count": 25,
   "metadata": {},
   "outputs": [],
   "source": [
    "x_train , x_test , y_train , y_test = train_test_split(x , y, test_size = 0.20 , random_state = 150)"
   ]
  },
  {
   "cell_type": "code",
   "execution_count": 26,
   "metadata": {},
   "outputs": [
    {
     "name": "stdout",
     "output_type": "stream",
     "text": [
      "(1047, 7)\n",
      "(1047,)\n",
      "----------\n",
      "(262, 7)\n",
      "(262,)\n"
     ]
    }
   ],
   "source": [
    "print(x_train.shape)\n",
    "print(y_train.shape)\n",
    "print(\"----------\")\n",
    "print(x_test.shape)\n",
    "print(y_test.shape)"
   ]
  },
  {
   "cell_type": "code",
   "execution_count": 27,
   "metadata": {},
   "outputs": [],
   "source": [
    "# Model Building :\n",
    "\n",
    "from sklearn.linear_model import LogisticRegression\n",
    "log_model = LogisticRegression()"
   ]
  },
  {
   "cell_type": "code",
   "execution_count": 28,
   "metadata": {},
   "outputs": [
    {
     "data": {
      "text/plain": [
       "LogisticRegression(C=1.0, class_weight=None, dual=False, fit_intercept=True,\n",
       "                   intercept_scaling=1, l1_ratio=None, max_iter=100,\n",
       "                   multi_class='auto', n_jobs=None, penalty='l2',\n",
       "                   random_state=None, solver='lbfgs', tol=0.0001, verbose=0,\n",
       "                   warm_start=False)"
      ]
     },
     "execution_count": 28,
     "metadata": {},
     "output_type": "execute_result"
    }
   ],
   "source": [
    "# fit the model :\n",
    "\n",
    "log_model.fit(x_train, y_train)"
   ]
  },
  {
   "cell_type": "code",
   "execution_count": 29,
   "metadata": {},
   "outputs": [
    {
     "data": {
      "text/plain": [
       "array([0, 0, 0, 1, 0, 1, 1, 1, 0, 0, 0, 0, 0, 1, 0, 1, 1, 0, 0, 0, 0, 1,\n",
       "       0, 0, 0, 1, 0, 0, 1, 1, 0, 1, 0, 0, 0, 1, 0, 1, 1, 0, 0, 0, 1, 1,\n",
       "       0, 1, 0, 0, 0, 0, 0, 0, 0, 0, 1, 1, 0, 0, 0, 1, 0, 0, 0, 0, 0, 0,\n",
       "       1, 0, 0, 0, 1, 0, 1, 0, 1, 0, 0, 1, 0, 1, 0, 0, 1, 0, 1, 0, 0, 0,\n",
       "       0, 1, 1, 0, 0, 0, 1, 1, 0, 1, 1, 0, 0, 0, 0, 0, 0, 0, 0, 0, 1, 0,\n",
       "       1, 0, 1, 0, 0, 0, 0, 1, 1, 0, 1, 1, 0, 1, 0, 0, 1, 1, 0, 0, 1, 1,\n",
       "       0, 0, 0, 0, 1, 1, 0, 1, 0, 1, 0, 1, 0, 1, 1, 1, 1, 1, 1, 1, 0, 0,\n",
       "       0, 1, 1, 0, 1, 0, 0, 0, 0, 0, 1, 0, 0, 0, 1, 1, 1, 0, 1, 0, 0, 0,\n",
       "       1, 0, 0, 1, 0, 0, 0, 1, 0, 0, 0, 0, 0, 0, 0, 1, 1, 0, 0, 0, 0, 1,\n",
       "       0, 0, 0, 0, 1, 0, 0, 0, 1, 0, 0, 0, 0, 0, 1, 1, 0, 0, 0, 0, 1, 0,\n",
       "       0, 1, 1, 0, 0, 0, 1, 1, 1, 0, 0, 0, 0, 1, 0, 0, 0, 0, 0, 1, 1, 0,\n",
       "       0, 1, 0, 0, 0, 0, 1, 1, 0, 1, 0, 1, 0, 1, 1, 0, 1, 1, 0, 0],\n",
       "      dtype=int64)"
      ]
     },
     "execution_count": 29,
     "metadata": {},
     "output_type": "execute_result"
    }
   ],
   "source": [
    "# Predcition of Values :\n",
    "\n",
    "pred_value = log_model.predict(x_test)\n",
    "pred_value"
   ]
  },
  {
   "cell_type": "code",
   "execution_count": 30,
   "metadata": {},
   "outputs": [],
   "source": [
    "# To eavluate the model :\n",
    "\n",
    "from sklearn.metrics import classification_report , confusion_matrix , accuracy_score"
   ]
  },
  {
   "cell_type": "code",
   "execution_count": 31,
   "metadata": {},
   "outputs": [
    {
     "data": {
      "text/plain": [
       "'              precision    recall  f1-score   support\\n\\n           0       0.81      0.84      0.83       160\\n           1       0.74      0.69      0.71       102\\n\\n    accuracy                           0.78       262\\n   macro avg       0.77      0.77      0.77       262\\nweighted avg       0.78      0.78      0.78       262\\n'"
      ]
     },
     "execution_count": 31,
     "metadata": {},
     "output_type": "execute_result"
    }
   ],
   "source": [
    "report =  classification_report(y_test,pred_value)\n",
    "report"
   ]
  },
  {
   "cell_type": "code",
   "execution_count": 32,
   "metadata": {},
   "outputs": [
    {
     "data": {
      "text/plain": [
       "array([[135,  25],\n",
       "       [ 32,  70]], dtype=int64)"
      ]
     },
     "execution_count": 32,
     "metadata": {},
     "output_type": "execute_result"
    }
   ],
   "source": [
    "table = confusion_matrix(y_test,pred_value)\n",
    "table"
   ]
  },
  {
   "cell_type": "code",
   "execution_count": 33,
   "metadata": {},
   "outputs": [
    {
     "data": {
      "text/plain": [
       "0.7824427480916031"
      ]
     },
     "execution_count": 33,
     "metadata": {},
     "output_type": "execute_result"
    }
   ],
   "source": [
    "acc = accuracy_score(y_test,pred_value)\n",
    "acc"
   ]
  },
  {
   "cell_type": "code",
   "execution_count": 34,
   "metadata": {},
   "outputs": [
    {
     "data": {
      "text/plain": [
       "array([[0.74914817, 0.25085183],\n",
       "       [0.87924817, 0.12075183],\n",
       "       [0.68829414, 0.31170586],\n",
       "       [0.16004074, 0.83995926],\n",
       "       [0.89921531, 0.10078469],\n",
       "       [0.44324042, 0.55675958],\n",
       "       [0.21472771, 0.78527229],\n",
       "       [0.09784194, 0.90215806],\n",
       "       [0.83293631, 0.16706369],\n",
       "       [0.8670028 , 0.1329972 ],\n",
       "       [0.85163822, 0.14836178],\n",
       "       [0.8416381 , 0.1583619 ],\n",
       "       [0.85231927, 0.14768073],\n",
       "       [0.48708846, 0.51291154],\n",
       "       [0.78564422, 0.21435578],\n",
       "       [0.09604584, 0.90395416],\n",
       "       [0.07859447, 0.92140553],\n",
       "       [0.89930602, 0.10069398],\n",
       "       [0.93494353, 0.06505647],\n",
       "       [0.83713475, 0.16286525],\n",
       "       [0.94792404, 0.05207596],\n",
       "       [0.08438976, 0.91561024],\n",
       "       [0.93285952, 0.06714048],\n",
       "       [0.93322758, 0.06677242],\n",
       "       [0.88206735, 0.11793265],\n",
       "       [0.11297981, 0.88702019],\n",
       "       [0.84595188, 0.15404812],\n",
       "       [0.80979103, 0.19020897],\n",
       "       [0.13714981, 0.86285019],\n",
       "       [0.35766226, 0.64233774],\n",
       "       [0.93341093, 0.06658907],\n",
       "       [0.38398656, 0.61601344],\n",
       "       [0.54763346, 0.45236654],\n",
       "       [0.87764552, 0.12235448],\n",
       "       [0.83081528, 0.16918472],\n",
       "       [0.22850261, 0.77149739],\n",
       "       [0.85212945, 0.14787055],\n",
       "       [0.13019212, 0.86980788],\n",
       "       [0.4210041 , 0.5789959 ],\n",
       "       [0.69689411, 0.30310589],\n",
       "       [0.89926892, 0.10073108],\n",
       "       [0.5202902 , 0.4797098 ],\n",
       "       [0.17268334, 0.82731666],\n",
       "       [0.05103294, 0.94896706],\n",
       "       [0.92143221, 0.07856779],\n",
       "       [0.44201546, 0.55798454],\n",
       "       [0.8712142 , 0.1287858 ],\n",
       "       [0.95081805, 0.04918195],\n",
       "       [0.86773928, 0.13226072],\n",
       "       [0.92222456, 0.07777544],\n",
       "       [0.93450812, 0.06549188],\n",
       "       [0.91049902, 0.08950098],\n",
       "       [0.64635005, 0.35364995],\n",
       "       [0.87761455, 0.12238545],\n",
       "       [0.13863288, 0.86136712],\n",
       "       [0.31981327, 0.68018673],\n",
       "       [0.66420091, 0.33579909],\n",
       "       [0.80574596, 0.19425404],\n",
       "       [0.59817961, 0.40182039],\n",
       "       [0.44471521, 0.55528479],\n",
       "       [0.90556409, 0.09443591],\n",
       "       [0.56330055, 0.43669945],\n",
       "       [0.71913934, 0.28086066],\n",
       "       [0.5705738 , 0.4294262 ],\n",
       "       [0.91506166, 0.08493834],\n",
       "       [0.89937193, 0.10062807],\n",
       "       [0.37337684, 0.62662316],\n",
       "       [0.89926618, 0.10073382],\n",
       "       [0.89358892, 0.10641108],\n",
       "       [0.87424777, 0.12575223],\n",
       "       [0.31941689, 0.68058311],\n",
       "       [0.863937  , 0.136063  ],\n",
       "       [0.16707662, 0.83292338],\n",
       "       [0.60636509, 0.39363491],\n",
       "       [0.19212792, 0.80787208],\n",
       "       [0.84049849, 0.15950151],\n",
       "       [0.63681108, 0.36318892],\n",
       "       [0.36953812, 0.63046188],\n",
       "       [0.86274151, 0.13725849],\n",
       "       [0.19083037, 0.80916963],\n",
       "       [0.88676244, 0.11323756],\n",
       "       [0.55395577, 0.44604423],\n",
       "       [0.20979593, 0.79020407],\n",
       "       [0.68089216, 0.31910784],\n",
       "       [0.2233789 , 0.7766211 ],\n",
       "       [0.8482408 , 0.1517592 ],\n",
       "       [0.88868055, 0.11131945],\n",
       "       [0.89926618, 0.10073382],\n",
       "       [0.89926618, 0.10073382],\n",
       "       [0.36595632, 0.63404368],\n",
       "       [0.46783142, 0.53216858],\n",
       "       [0.70217649, 0.29782351],\n",
       "       [0.79779782, 0.20220218],\n",
       "       [0.8834167 , 0.1165833 ],\n",
       "       [0.0874072 , 0.9125928 ],\n",
       "       [0.23566286, 0.76433714],\n",
       "       [0.86070491, 0.13929509],\n",
       "       [0.10641166, 0.89358834],\n",
       "       [0.36850125, 0.63149875],\n",
       "       [0.90721062, 0.09278938],\n",
       "       [0.89652921, 0.10347079],\n",
       "       [0.66220271, 0.33779729],\n",
       "       [0.92193622, 0.07806378],\n",
       "       [0.89648698, 0.10351302],\n",
       "       [0.86860529, 0.13139471],\n",
       "       [0.92803064, 0.07196936],\n",
       "       [0.97537644, 0.02462356],\n",
       "       [0.75996693, 0.24003307],\n",
       "       [0.48663929, 0.51336071],\n",
       "       [0.68687121, 0.31312879],\n",
       "       [0.12518922, 0.87481078],\n",
       "       [0.8608249 , 0.1391751 ],\n",
       "       [0.06963551, 0.93036449],\n",
       "       [0.87891631, 0.12108369],\n",
       "       [0.74103991, 0.25896009],\n",
       "       [0.61807486, 0.38192514],\n",
       "       [0.76363157, 0.23636843],\n",
       "       [0.36850125, 0.63149875],\n",
       "       [0.06833508, 0.93166492],\n",
       "       [0.76607171, 0.23392829],\n",
       "       [0.48999575, 0.51000425],\n",
       "       [0.42538124, 0.57461876],\n",
       "       [0.57801775, 0.42198225],\n",
       "       [0.180861  , 0.819139  ],\n",
       "       [0.85231927, 0.14768073],\n",
       "       [0.94100145, 0.05899855],\n",
       "       [0.49149915, 0.50850085],\n",
       "       [0.38917968, 0.61082032],\n",
       "       [0.87981555, 0.12018445],\n",
       "       [0.80522746, 0.19477254],\n",
       "       [0.30922311, 0.69077689],\n",
       "       [0.2212358 , 0.7787642 ],\n",
       "       [0.87764552, 0.12235448],\n",
       "       [0.87764552, 0.12235448],\n",
       "       [0.69884008, 0.30115992],\n",
       "       [0.83034961, 0.16965039],\n",
       "       [0.45733877, 0.54266123],\n",
       "       [0.12409857, 0.87590143],\n",
       "       [0.79642974, 0.20357026],\n",
       "       [0.17936552, 0.82063448],\n",
       "       [0.89921531, 0.10078469],\n",
       "       [0.05405266, 0.94594734],\n",
       "       [0.70844752, 0.29155248],\n",
       "       [0.04952095, 0.95047905],\n",
       "       [0.93022674, 0.06977326],\n",
       "       [0.28771632, 0.71228368],\n",
       "       [0.23079759, 0.76920241],\n",
       "       [0.30510622, 0.69489378],\n",
       "       [0.21603091, 0.78396909],\n",
       "       [0.3816315 , 0.6183685 ],\n",
       "       [0.18002374, 0.81997626],\n",
       "       [0.05010826, 0.94989174],\n",
       "       [0.87764552, 0.12235448],\n",
       "       [0.86835057, 0.13164943],\n",
       "       [0.75543956, 0.24456044],\n",
       "       [0.05394838, 0.94605162],\n",
       "       [0.24599692, 0.75400308],\n",
       "       [0.89921531, 0.10078469],\n",
       "       [0.27356992, 0.72643008],\n",
       "       [0.91660931, 0.08339069],\n",
       "       [0.88675941, 0.11324059],\n",
       "       [0.8836415 , 0.1163585 ],\n",
       "       [0.79098402, 0.20901598],\n",
       "       [0.95906789, 0.04093211],\n",
       "       [0.43606545, 0.56393455],\n",
       "       [0.88600116, 0.11399884],\n",
       "       [0.90557704, 0.09442296],\n",
       "       [0.89778226, 0.10221774],\n",
       "       [0.28475403, 0.71524597],\n",
       "       [0.1940353 , 0.8059647 ],\n",
       "       [0.06529499, 0.93470501],\n",
       "       [0.87795794, 0.12204206],\n",
       "       [0.28167807, 0.71832193],\n",
       "       [0.92498695, 0.07501305],\n",
       "       [0.93056976, 0.06943024],\n",
       "       [0.77365681, 0.22634319],\n",
       "       [0.29032522, 0.70967478],\n",
       "       [0.85490186, 0.14509814],\n",
       "       [0.91604986, 0.08395014],\n",
       "       [0.32179063, 0.67820937],\n",
       "       [0.86847834, 0.13152166],\n",
       "       [0.91049902, 0.08950098],\n",
       "       [0.81609742, 0.18390258],\n",
       "       [0.20908945, 0.79091055],\n",
       "       [0.82264667, 0.17735333],\n",
       "       [0.83115452, 0.16884548],\n",
       "       [0.86447803, 0.13552197],\n",
       "       [0.87764552, 0.12235448],\n",
       "       [0.89489243, 0.10510757],\n",
       "       [0.90722914, 0.09277086],\n",
       "       [0.8836415 , 0.1163585 ],\n",
       "       [0.38186448, 0.61813552],\n",
       "       [0.40955049, 0.59044951],\n",
       "       [0.6192324 , 0.3807676 ],\n",
       "       [0.86512911, 0.13487089],\n",
       "       [0.821404  , 0.178596  ],\n",
       "       [0.92626891, 0.07373109],\n",
       "       [0.19179887, 0.80820113],\n",
       "       [0.8994584 , 0.1005416 ],\n",
       "       [0.93719797, 0.06280203],\n",
       "       [0.92571461, 0.07428539],\n",
       "       [0.55824722, 0.44175278],\n",
       "       [0.04307017, 0.95692983],\n",
       "       [0.86866935, 0.13133065],\n",
       "       [0.76693741, 0.23306259],\n",
       "       [0.84457958, 0.15542042],\n",
       "       [0.47790273, 0.52209727],\n",
       "       [0.87247341, 0.12752659],\n",
       "       [0.94623194, 0.05376806],\n",
       "       [0.94064673, 0.05935327],\n",
       "       [0.6591238 , 0.3408762 ],\n",
       "       [0.74556676, 0.25443324],\n",
       "       [0.32361318, 0.67638682],\n",
       "       [0.36850125, 0.63149875],\n",
       "       [0.8567416 , 0.1432584 ],\n",
       "       [0.74709   , 0.25291   ],\n",
       "       [0.720475  , 0.279525  ],\n",
       "       [0.88680356, 0.11319644],\n",
       "       [0.27419763, 0.72580237],\n",
       "       [0.86475697, 0.13524303],\n",
       "       [0.50524927, 0.49475073],\n",
       "       [0.09415484, 0.90584516],\n",
       "       [0.26950332, 0.73049668],\n",
       "       [0.75748327, 0.24251673],\n",
       "       [0.89947897, 0.10052103],\n",
       "       [0.56509094, 0.43490906],\n",
       "       [0.24599692, 0.75400308],\n",
       "       [0.27748241, 0.72251759],\n",
       "       [0.48972303, 0.51027697],\n",
       "       [0.61372796, 0.38627204],\n",
       "       [0.58643058, 0.41356942],\n",
       "       [0.63917446, 0.36082554],\n",
       "       [0.77833904, 0.22166096],\n",
       "       [0.41319027, 0.58680973],\n",
       "       [0.89899651, 0.10100349],\n",
       "       [0.96252187, 0.03747813],\n",
       "       [0.905555  , 0.094445  ],\n",
       "       [0.87247341, 0.12752659],\n",
       "       [0.89938017, 0.10061983],\n",
       "       [0.08707939, 0.91292061],\n",
       "       [0.13906681, 0.86093319],\n",
       "       [0.56491715, 0.43508285],\n",
       "       [0.90545741, 0.09454259],\n",
       "       [0.06486189, 0.93513811],\n",
       "       [0.89921531, 0.10078469],\n",
       "       [0.51614596, 0.48385404],\n",
       "       [0.86470373, 0.13529627],\n",
       "       [0.84009596, 0.15990404],\n",
       "       [0.10955296, 0.89044704],\n",
       "       [0.22850261, 0.77149739],\n",
       "       [0.84457958, 0.15542042],\n",
       "       [0.36887141, 0.63112859],\n",
       "       [0.87241093, 0.12758907],\n",
       "       [0.4666565 , 0.5333435 ],\n",
       "       [0.85231927, 0.14768073],\n",
       "       [0.04114903, 0.95885097],\n",
       "       [0.0688414 , 0.9311586 ],\n",
       "       [0.5666335 , 0.4333665 ],\n",
       "       [0.27036069, 0.72963931],\n",
       "       [0.25001763, 0.74998237],\n",
       "       [0.9111373 , 0.0888627 ],\n",
       "       [0.89921531, 0.10078469]])"
      ]
     },
     "execution_count": 34,
     "metadata": {},
     "output_type": "execute_result"
    }
   ],
   "source": [
    "# To predict the probabilities :\n",
    "\n",
    "pred_prob = log_model.predict_proba(x_test)\n",
    "pred_prob\n"
   ]
  },
  {
   "cell_type": "code",
   "execution_count": 35,
   "metadata": {},
   "outputs": [],
   "source": [
    "# To plot the ROC curve and find the AUROC value :\n",
    "\n",
    "from sklearn.metrics import roc_curve , roc_auc_score"
   ]
  },
  {
   "cell_type": "code",
   "execution_count": 36,
   "metadata": {},
   "outputs": [],
   "source": [
    "# To calculate the values of tpr and fpr :\n",
    "\n",
    "tpr , fpr , thresholds = roc_curve(y_test , pred_prob[:,1])"
   ]
  },
  {
   "cell_type": "code",
   "execution_count": 37,
   "metadata": {},
   "outputs": [
    {
     "data": {
      "text/plain": [
       "array([0.     , 0.     , 0.     , 0.00625, 0.00625, 0.0125 , 0.0125 ,\n",
       "       0.01875, 0.01875, 0.01875, 0.01875, 0.01875, 0.01875, 0.025  ,\n",
       "       0.025  , 0.0375 , 0.0375 , 0.04375, 0.04375, 0.05   , 0.05   ,\n",
       "       0.05   , 0.05   , 0.08125, 0.08125, 0.10625, 0.10625, 0.1375 ,\n",
       "       0.1375 , 0.14375, 0.14375, 0.15   , 0.15   , 0.16875, 0.16875,\n",
       "       0.18125, 0.18125, 0.2125 , 0.2125 , 0.21875, 0.21875, 0.225  ,\n",
       "       0.225  , 0.23125, 0.23125, 0.2375 , 0.2375 , 0.24375, 0.24375,\n",
       "       0.25   , 0.25   , 0.3375 , 0.3375 , 0.3625 , 0.3625 , 0.38125,\n",
       "       0.38125, 0.3875 , 0.3875 , 0.43125, 0.4375 , 0.4625 , 0.475  ,\n",
       "       0.4875 , 0.4875 , 0.51875, 0.51875, 0.53125, 0.53125, 0.56875,\n",
       "       0.58125, 0.59375, 0.61875, 0.64375, 0.64375, 0.65   , 0.6625 ,\n",
       "       0.6875 , 0.6875 , 0.725  , 0.75625, 0.775  , 0.775  , 0.8125 ,\n",
       "       0.8125 , 0.81875, 0.81875, 0.83125, 0.84375, 0.85   , 0.85   ,\n",
       "       0.8875 , 0.8875 , 1.     ])"
      ]
     },
     "execution_count": 37,
     "metadata": {},
     "output_type": "execute_result"
    }
   ],
   "source": [
    "tpr"
   ]
  },
  {
   "cell_type": "code",
   "execution_count": 38,
   "metadata": {},
   "outputs": [
    {
     "data": {
      "text/plain": [
       "array([0.        , 0.00980392, 0.12745098, 0.12745098, 0.29411765,\n",
       "       0.29411765, 0.31372549, 0.31372549, 0.40196078, 0.42156863,\n",
       "       0.44117647, 0.46078431, 0.48039216, 0.48039216, 0.5       ,\n",
       "       0.5       , 0.52941176, 0.52941176, 0.54901961, 0.54901961,\n",
       "       0.58823529, 0.61764706, 0.62745098, 0.62745098, 0.6372549 ,\n",
       "       0.6372549 , 0.65686275, 0.65686275, 0.66666667, 0.66666667,\n",
       "       0.67647059, 0.67647059, 0.68627451, 0.68627451, 0.69607843,\n",
       "       0.69607843, 0.70588235, 0.70588235, 0.73529412, 0.73529412,\n",
       "       0.74509804, 0.74509804, 0.7745098 , 0.7745098 , 0.78431373,\n",
       "       0.78431373, 0.80392157, 0.80392157, 0.81372549, 0.81372549,\n",
       "       0.83333333, 0.83333333, 0.84313725, 0.84313725, 0.85294118,\n",
       "       0.85294118, 0.8627451 , 0.8627451 , 0.87254902, 0.87254902,\n",
       "       0.88235294, 0.88235294, 0.89215686, 0.89215686, 0.90196078,\n",
       "       0.90196078, 0.91176471, 0.91176471, 0.92156863, 0.92156863,\n",
       "       0.92156863, 0.92156863, 0.93137255, 0.93137255, 0.94117647,\n",
       "       0.94117647, 0.94117647, 0.94117647, 0.95098039, 0.95098039,\n",
       "       0.95098039, 0.95098039, 0.96078431, 0.96078431, 0.97058824,\n",
       "       0.97058824, 0.98039216, 0.98039216, 0.98039216, 0.98039216,\n",
       "       0.99019608, 0.99019608, 1.        , 1.        ])"
      ]
     },
     "execution_count": 38,
     "metadata": {},
     "output_type": "execute_result"
    }
   ],
   "source": [
    "fpr"
   ]
  },
  {
   "cell_type": "code",
   "execution_count": 39,
   "metadata": {},
   "outputs": [
    {
     "data": {
      "text/plain": [
       "0.7650122549019608"
      ]
     },
     "execution_count": 39,
     "metadata": {},
     "output_type": "execute_result"
    }
   ],
   "source": [
    "# To find the Area under ROC curve :\n",
    "\n",
    "AUROC = roc_auc_score(y_test, pred_value)\n",
    "AUROC\n",
    "\n",
    "# The value of AUROC is 0.7650122549019608"
   ]
  },
  {
   "cell_type": "code",
   "execution_count": 41,
   "metadata": {},
   "outputs": [
    {
     "data": {
      "image/png": "[encoded data removed]",
      "text/plain": [
       "<Figure size 576x360 with 1 Axes>"
      ]
     },
     "metadata": {
      "needs_background": "light"
     },
     "output_type": "display_data"
    }
   ],
   "source": [
    "# Plot the curve b/w FPR and TPR:\n",
    "\n",
    "plt.figure(figsize=(8,5))\n",
    "plt.plot(fpr, tpr)\n",
    "plt.xlabel(\"FPR\")\n",
    "plt.ylabel(\"TPR\")\n",
    "plt.text(x = 0.4 , y = 0.4 , s = \"The value of AUROC is 0.7650122549\");"
   ]
  },
  {
   "cell_type": "code",
   "execution_count": 1,
   "metadata": {},
   "outputs": [],
   "source": [
    "# Tuning the model by adjusting the threshold probability value , the default value for threshold is 0.5.\n",
    "\n",
    "# \"binarize\" library is used from \"sklearn\" for this purpose."
   ]
  },
  {
   "cell_type": "code",
   "execution_count": 42,
   "metadata": {},
   "outputs": [],
   "source": [
    "from sklearn.preprocessing import binarize"
   ]
  },
  {
   "cell_type": "code",
   "execution_count": 44,
   "metadata": {},
   "outputs": [
    {
     "data": {
      "text/plain": [
       "array([[0.25085183, 0.12075183, 0.31170586, 0.83995926, 0.10078469,\n",
       "        0.55675958, 0.78527229, 0.90215806, 0.16706369, 0.1329972 ,\n",
       "        0.14836178, 0.1583619 , 0.14768073, 0.51291154, 0.21435578,\n",
       "        0.90395416, 0.92140553, 0.10069398, 0.06505647, 0.16286525,\n",
       "        0.05207596, 0.91561024, 0.06714048, 0.06677242, 0.11793265,\n",
       "        0.88702019, 0.15404812, 0.19020897, 0.86285019, 0.64233774,\n",
       "        0.06658907, 0.61601344, 0.45236654, 0.12235448, 0.16918472,\n",
       "        0.77149739, 0.14787055, 0.86980788, 0.5789959 , 0.30310589,\n",
       "        0.10073108, 0.4797098 , 0.82731666, 0.94896706, 0.07856779,\n",
       "        0.55798454, 0.1287858 , 0.04918195, 0.13226072, 0.07777544,\n",
       "        0.06549188, 0.08950098, 0.35364995, 0.12238545, 0.86136712,\n",
       "        0.68018673, 0.33579909, 0.19425404, 0.40182039, 0.55528479,\n",
       "        0.09443591, 0.43669945, 0.28086066, 0.4294262 , 0.08493834,\n",
       "        0.10062807, 0.62662316, 0.10073382, 0.10641108, 0.12575223,\n",
       "        0.68058311, 0.136063  , 0.83292338, 0.39363491, 0.80787208,\n",
       "        0.15950151, 0.36318892, 0.63046188, 0.13725849, 0.80916963,\n",
       "        0.11323756, 0.44604423, 0.79020407, 0.31910784, 0.7766211 ,\n",
       "        0.1517592 , 0.11131945, 0.10073382, 0.10073382, 0.63404368,\n",
       "        0.53216858, 0.29782351, 0.20220218, 0.1165833 , 0.9125928 ,\n",
       "        0.76433714, 0.13929509, 0.89358834, 0.63149875, 0.09278938,\n",
       "        0.10347079, 0.33779729, 0.07806378, 0.10351302, 0.13139471,\n",
       "        0.07196936, 0.02462356, 0.24003307, 0.51336071, 0.31312879,\n",
       "        0.87481078, 0.1391751 , 0.93036449, 0.12108369, 0.25896009,\n",
       "        0.38192514, 0.23636843, 0.63149875, 0.93166492, 0.23392829,\n",
       "        0.51000425, 0.57461876, 0.42198225, 0.819139  , 0.14768073,\n",
       "        0.05899855, 0.50850085, 0.61082032, 0.12018445, 0.19477254,\n",
       "        0.69077689, 0.7787642 , 0.12235448, 0.12235448, 0.30115992,\n",
       "        0.16965039, 0.54266123, 0.87590143, 0.20357026, 0.82063448,\n",
       "        0.10078469, 0.94594734, 0.29155248, 0.95047905, 0.06977326,\n",
       "        0.71228368, 0.76920241, 0.69489378, 0.78396909, 0.6183685 ,\n",
       "        0.81997626, 0.94989174, 0.12235448, 0.13164943, 0.24456044,\n",
       "        0.94605162, 0.75400308, 0.10078469, 0.72643008, 0.08339069,\n",
       "        0.11324059, 0.1163585 , 0.20901598, 0.04093211, 0.56393455,\n",
       "        0.11399884, 0.09442296, 0.10221774, 0.71524597, 0.8059647 ,\n",
       "        0.93470501, 0.12204206, 0.71832193, 0.07501305, 0.06943024,\n",
       "        0.22634319, 0.70967478, 0.14509814, 0.08395014, 0.67820937,\n",
       "        0.13152166, 0.08950098, 0.18390258, 0.79091055, 0.17735333,\n",
       "        0.16884548, 0.13552197, 0.12235448, 0.10510757, 0.09277086,\n",
       "        0.1163585 , 0.61813552, 0.59044951, 0.3807676 , 0.13487089,\n",
       "        0.178596  , 0.07373109, 0.80820113, 0.1005416 , 0.06280203,\n",
       "        0.07428539, 0.44175278, 0.95692983, 0.13133065, 0.23306259,\n",
       "        0.15542042, 0.52209727, 0.12752659, 0.05376806, 0.05935327,\n",
       "        0.3408762 , 0.25443324, 0.67638682, 0.63149875, 0.1432584 ,\n",
       "        0.25291   , 0.279525  , 0.11319644, 0.72580237, 0.13524303,\n",
       "        0.49475073, 0.90584516, 0.73049668, 0.24251673, 0.10052103,\n",
       "        0.43490906, 0.75400308, 0.72251759, 0.51027697, 0.38627204,\n",
       "        0.41356942, 0.36082554, 0.22166096, 0.58680973, 0.10100349,\n",
       "        0.03747813, 0.094445  , 0.12752659, 0.10061983, 0.91292061,\n",
       "        0.86093319, 0.43508285, 0.09454259, 0.93513811, 0.10078469,\n",
       "        0.48385404, 0.13529627, 0.15990404, 0.89044704, 0.77149739,\n",
       "        0.15542042, 0.63112859, 0.12758907, 0.5333435 , 0.14768073,\n",
       "        0.95885097, 0.9311586 , 0.4333665 , 0.72963931, 0.74998237,\n",
       "        0.0888627 , 0.10078469]])"
      ]
     },
     "execution_count": 44,
     "metadata": {},
     "output_type": "execute_result"
    }
   ],
   "source": [
    "# taking the probability values for class 1 from the predicted probabilities.\n",
    "\n",
    "pred_prob_class1 = pred_prob[:, 1]\n",
    "pred_prob_class1 = pred_prob_class1.reshape(1,-1)\n",
    "pred_prob_class1"
   ]
  },
  {
   "cell_type": "code",
   "execution_count": 45,
   "metadata": {},
   "outputs": [
    {
     "data": {
      "text/plain": [
       "array([0., 0., 0., 1., 0., 1., 1., 1., 0., 0., 0., 0., 0., 1., 0., 1., 1.,\n",
       "       0., 0., 0., 0., 1., 0., 0., 0., 1., 0., 0., 1., 1., 0., 1., 1., 0.,\n",
       "       0., 1., 0., 1., 1., 0., 0., 1., 1., 1., 0., 1., 0., 0., 0., 0., 0.,\n",
       "       0., 0., 0., 1., 1., 0., 0., 1., 1., 0., 1., 0., 1., 0., 0., 1., 0.,\n",
       "       0., 0., 1., 0., 1., 0., 1., 0., 0., 1., 0., 1., 0., 1., 1., 0., 1.,\n",
       "       0., 0., 0., 0., 1., 1., 0., 0., 0., 1., 1., 0., 1., 1., 0., 0., 0.,\n",
       "       0., 0., 0., 0., 0., 0., 1., 0., 1., 0., 1., 0., 0., 0., 0., 1., 1.,\n",
       "       0., 1., 1., 1., 1., 0., 0., 1., 1., 0., 0., 1., 1., 0., 0., 0., 0.,\n",
       "       1., 1., 0., 1., 0., 1., 0., 1., 0., 1., 1., 1., 1., 1., 1., 1., 0.,\n",
       "       0., 0., 1., 1., 0., 1., 0., 0., 0., 0., 0., 1., 0., 0., 0., 1., 1.,\n",
       "       1., 0., 1., 0., 0., 0., 1., 0., 0., 1., 0., 0., 0., 1., 0., 0., 0.,\n",
       "       0., 0., 0., 0., 1., 1., 0., 0., 0., 0., 1., 0., 0., 0., 1., 1., 0.,\n",
       "       0., 0., 1., 0., 0., 0., 0., 0., 1., 1., 0., 0., 0., 0., 1., 0., 1.,\n",
       "       1., 1., 0., 0., 1., 1., 1., 1., 0., 1., 0., 0., 1., 0., 0., 0., 0.,\n",
       "       0., 1., 1., 1., 0., 1., 0., 1., 0., 0., 1., 1., 0., 1., 0., 1., 0.,\n",
       "       1., 1., 1., 1., 1., 0., 0.])"
      ]
     },
     "execution_count": 45,
     "metadata": {},
     "output_type": "execute_result"
    }
   ],
   "source": [
    "# USing the binarize function to set the new threshold value of probability and calculating the new pred value from that\n",
    "#  threshold.\n",
    "\n",
    "y_pred_new = binarize(pred_prob_class1, threshold=0.40)[0]\n",
    "y_pred_new\n",
    "\n",
    "# the above code is used to calculate the predicted vales of y according to the new threshold prob. value 0.4.\n",
    "# the probability values less than 0.4 will belong to class \"0\" and the prob. values more than 0.40 will belong to class \"1\".\n",
    "\n"
   ]
  },
  {
   "cell_type": "code",
   "execution_count": 47,
   "metadata": {},
   "outputs": [
    {
     "data": {
      "text/plain": [
       "array([0, 0, 0, 1, 0, 1, 1, 1, 0, 0, 0, 0, 0, 1, 0, 1, 1, 0, 0, 0, 0, 1,\n",
       "       0, 0, 0, 1, 0, 0, 1, 1, 0, 1, 1, 0, 0, 1, 0, 1, 1, 0, 0, 1, 1, 1,\n",
       "       0, 1, 0, 0, 0, 0, 0, 0, 0, 0, 1, 1, 0, 0, 1, 1, 0, 1, 0, 1, 0, 0,\n",
       "       1, 0, 0, 0, 1, 0, 1, 0, 1, 0, 0, 1, 0, 1, 0, 1, 1, 0, 1, 0, 0, 0,\n",
       "       0, 1, 1, 0, 0, 0, 1, 1, 0, 1, 1, 0, 0, 0, 0, 0, 0, 0, 0, 0, 1, 0,\n",
       "       1, 0, 1, 0, 0, 0, 0, 1, 1, 0, 1, 1, 1, 1, 0, 0, 1, 1, 0, 0, 1, 1,\n",
       "       0, 0, 0, 0, 1, 1, 0, 1, 0, 1, 0, 1, 0, 1, 1, 1, 1, 1, 1, 1, 0, 0,\n",
       "       0, 1, 1, 0, 1, 0, 0, 0, 0, 0, 1, 0, 0, 0, 1, 1, 1, 0, 1, 0, 0, 0,\n",
       "       1, 0, 0, 1, 0, 0, 0, 1, 0, 0, 0, 0, 0, 0, 0, 1, 1, 0, 0, 0, 0, 1,\n",
       "       0, 0, 0, 1, 1, 0, 0, 0, 1, 0, 0, 0, 0, 0, 1, 1, 0, 0, 0, 0, 1, 0,\n",
       "       1, 1, 1, 0, 0, 1, 1, 1, 1, 0, 1, 0, 0, 1, 0, 0, 0, 0, 0, 1, 1, 1,\n",
       "       0, 1, 0, 1, 0, 0, 1, 1, 0, 1, 0, 1, 0, 1, 1, 1, 1, 1, 0, 0])"
      ]
     },
     "execution_count": 47,
     "metadata": {},
     "output_type": "execute_result"
    }
   ],
   "source": [
    "# converting the \"y_pred_new\" into integer\n",
    "\n",
    "y_pred_new = y_pred_new.astype(int)\n",
    "y_pred_new\n"
   ]
  },
  {
   "cell_type": "code",
   "execution_count": 50,
   "metadata": {},
   "outputs": [
    {
     "data": {
      "text/plain": [
       "array([[126,  34],\n",
       "       [ 27,  75]], dtype=int64)"
      ]
     },
     "execution_count": 50,
     "metadata": {},
     "output_type": "execute_result"
    }
   ],
   "source": [
    "# to generate the new confudion matrix \n",
    "\n",
    "table1 = confusion_matrix(y_test, y_pred_new)\n",
    "table1"
   ]
  },
  {
   "cell_type": "code",
   "execution_count": 51,
   "metadata": {},
   "outputs": [
    {
     "data": {
      "text/plain": [
       "array([[135,  25],\n",
       "       [ 32,  70]], dtype=int64)"
      ]
     },
     "execution_count": 51,
     "metadata": {},
     "output_type": "execute_result"
    }
   ],
   "source": [
    "# old confusion matrix :\n",
    "\n",
    "table"
   ]
  },
  {
   "cell_type": "code",
   "execution_count": 53,
   "metadata": {},
   "outputs": [
    {
     "data": {
      "text/plain": [
       "0.767175572519084"
      ]
     },
     "execution_count": 53,
     "metadata": {},
     "output_type": "execute_result"
    }
   ],
   "source": [
    "acc_new = accuracy_score(y_test , y_pred_new)\n",
    "acc_new"
   ]
  },
  {
   "cell_type": "code",
   "execution_count": 55,
   "metadata": {},
   "outputs": [
    {
     "name": "stdout",
     "output_type": "stream",
     "text": [
      "              precision    recall  f1-score   support\n",
      "\n",
      "           0       0.82      0.79      0.81       160\n",
      "           1       0.69      0.74      0.71       102\n",
      "\n",
      "    accuracy                           0.77       262\n",
      "   macro avg       0.76      0.76      0.76       262\n",
      "weighted avg       0.77      0.77      0.77       262\n",
      "\n"
     ]
    }
   ],
   "source": [
    "print(classification_report( y_test , y_pred_new))"
   ]
  },
  {
   "cell_type": "code",
   "execution_count": null,
   "metadata": {},
   "outputs": [],
   "source": []
  }
 ],
 "metadata": {
  "kernelspec": {
   "display_name": "Python 3",
   "language": "python",
   "name": "python3"
  },
  "language_info": {
   "codemirror_mode": {
    "name": "ipython",
    "version": 3
   },
   "file_extension": ".py",
   "mimetype": "text/x-python",
   "name": "python",
   "nbconvert_exporter": "python",
   "pygments_lexer": "ipython3",
   "version": "3.7.6"
  }
 },
 "nbformat": 4,
 "nbformat_minor": 4
}
